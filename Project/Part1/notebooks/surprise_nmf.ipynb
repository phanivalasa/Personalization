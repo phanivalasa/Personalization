{
 "cells": [
  {
   "cell_type": "markdown",
   "metadata": {},
   "source": [
    "We've used another approach to Top N predictions using Surprise package. We have tried several approaches using this package:\n",
    "\n",
    "* Reduced the listen_count using minmax scaler\n",
    "* Use the min and max of the listen count as a range\n",
    "* use Grid search to Cross Validate and evaluate the performance of various hyper parameters.\n",
    "* Perform the analysis on model performance with varying latent factors\n",
    "* Create the baseline performance using this package and compare the improvements\n",
    "* Measure the Scaling with increased sampling sizes\n",
    "\n",
    "We have plotted the RMSE and MAE graphs\n"
   ]
  },
  {
   "cell_type": "code",
   "execution_count": 2,
   "metadata": {
    "collapsed": true
   },
   "outputs": [],
   "source": [
    "import pandas as pd\n",
    "import numpy as np\n",
    "from sklearn.model_selection import train_test_split\n",
    "from scipy.spatial.distance import cosine\n",
    "from sklearn.metrics.pairwise import cosine_similarity, pairwise_distances\n",
    "from sklearn.model_selection import KFold\n",
    "from surprise import evaluate, Reader, Dataset, SVD,SVDpp, NMF, GridSearch\n",
    "from sklearn import preprocessing"
   ]
  },
  {
   "cell_type": "code",
   "execution_count": 4,
   "metadata": {
    "collapsed": true
   },
   "outputs": [],
   "source": [
    "play_count = pd.read_csv('../DataSets/10kusers_100songs.csv', sep=',')\n",
    "play_count.columns=['user','song','listen_count']"
   ]
  },
  {
   "cell_type": "code",
   "execution_count": 6,
   "metadata": {
    "collapsed": true
   },
   "outputs": [],
   "source": [
    "reader = Reader(rating_scale=(1,958))\n",
    "data = Dataset.load_from_df(play_count[['user', 'song', 'listen_count']], reader)"
   ]
  },
  {
   "cell_type": "markdown",
   "metadata": {},
   "source": [
    "### The below is the grid search on NMF to tune the hyperparameters - Latent Factors, Epochs and Regularization."
   ]
  },
  {
   "cell_type": "code",
   "execution_count": 8,
   "metadata": {},
   "outputs": [
    {
     "name": "stdout",
     "output_type": "stream",
     "text": [
      "Running grid search for the following parameter combinations:\n",
      "{'n_factors': 40, 'reg_qi': 0.1, 'reg_pu': 0.001, 'n_epochs': 40}\n",
      "{'n_factors': 40, 'reg_qi': 0.1, 'reg_pu': 0.001, 'n_epochs': 50}\n",
      "{'n_factors': 40, 'reg_qi': 0.1, 'reg_pu': 0.1, 'n_epochs': 40}\n",
      "{'n_factors': 40, 'reg_qi': 0.1, 'reg_pu': 0.1, 'n_epochs': 50}\n",
      "{'n_factors': 40, 'reg_qi': 1, 'reg_pu': 0.001, 'n_epochs': 40}\n",
      "{'n_factors': 40, 'reg_qi': 1, 'reg_pu': 0.001, 'n_epochs': 50}\n",
      "{'n_factors': 40, 'reg_qi': 1, 'reg_pu': 0.1, 'n_epochs': 40}\n",
      "{'n_factors': 40, 'reg_qi': 1, 'reg_pu': 0.1, 'n_epochs': 50}\n",
      "{'n_factors': 40, 'reg_qi': 3, 'reg_pu': 0.001, 'n_epochs': 40}\n",
      "{'n_factors': 40, 'reg_qi': 3, 'reg_pu': 0.001, 'n_epochs': 50}\n",
      "{'n_factors': 40, 'reg_qi': 3, 'reg_pu': 0.1, 'n_epochs': 40}\n",
      "{'n_factors': 40, 'reg_qi': 3, 'reg_pu': 0.1, 'n_epochs': 50}\n",
      "{'n_factors': 50, 'reg_qi': 0.1, 'reg_pu': 0.001, 'n_epochs': 40}\n",
      "{'n_factors': 50, 'reg_qi': 0.1, 'reg_pu': 0.001, 'n_epochs': 50}\n",
      "{'n_factors': 50, 'reg_qi': 0.1, 'reg_pu': 0.1, 'n_epochs': 40}\n",
      "{'n_factors': 50, 'reg_qi': 0.1, 'reg_pu': 0.1, 'n_epochs': 50}\n",
      "{'n_factors': 50, 'reg_qi': 1, 'reg_pu': 0.001, 'n_epochs': 40}\n",
      "{'n_factors': 50, 'reg_qi': 1, 'reg_pu': 0.001, 'n_epochs': 50}\n",
      "{'n_factors': 50, 'reg_qi': 1, 'reg_pu': 0.1, 'n_epochs': 40}\n",
      "{'n_factors': 50, 'reg_qi': 1, 'reg_pu': 0.1, 'n_epochs': 50}\n",
      "{'n_factors': 50, 'reg_qi': 3, 'reg_pu': 0.001, 'n_epochs': 40}\n",
      "{'n_factors': 50, 'reg_qi': 3, 'reg_pu': 0.001, 'n_epochs': 50}\n",
      "{'n_factors': 50, 'reg_qi': 3, 'reg_pu': 0.1, 'n_epochs': 40}\n",
      "{'n_factors': 50, 'reg_qi': 3, 'reg_pu': 0.1, 'n_epochs': 50}\n"
     ]
    },
    {
     "name": "stderr",
     "output_type": "stream",
     "text": [
      "/anaconda2/lib/python2.7/site-packages/surprise/evaluate.py:66: UserWarning: The evaluate() method is deprecated. Please use model_selection.cross_validate() instead.\n",
      "  'model_selection.cross_validate() instead.', UserWarning)\n",
      "/anaconda2/lib/python2.7/site-packages/surprise/dataset.py:193: UserWarning: Using data.split() or using load_from_folds() without using a CV iterator is now deprecated. \n",
      "  UserWarning)\n"
     ]
    },
    {
     "name": "stdout",
     "output_type": "stream",
     "text": [
      "Resulsts:\n",
      "{'n_factors': 40, 'reg_qi': 0.1, 'reg_pu': 0.001, 'n_epochs': 40}\n",
      "{'MAE': 4.199598786778899, 'RMSE': 9.690845071768482}\n",
      "----------\n",
      "{'n_factors': 40, 'reg_qi': 0.1, 'reg_pu': 0.001, 'n_epochs': 50}\n",
      "{'MAE': 3.927479779455576, 'RMSE': 9.212528162100757}\n",
      "----------\n",
      "{'n_factors': 40, 'reg_qi': 0.1, 'reg_pu': 0.1, 'n_epochs': 40}\n",
      "{'MAE': 2.350797915903696, 'RMSE': 6.195079355311016}\n",
      "----------\n",
      "{'n_factors': 40, 'reg_qi': 0.1, 'reg_pu': 0.1, 'n_epochs': 50}\n",
      "{'MAE': 2.3100279011378975, 'RMSE': 6.019321625562258}\n",
      "----------\n",
      "{'n_factors': 40, 'reg_qi': 1, 'reg_pu': 0.001, 'n_epochs': 40}\n",
      "{'MAE': 2.7472346295421053, 'RMSE': 6.904675489321653}\n",
      "----------\n",
      "{'n_factors': 40, 'reg_qi': 1, 'reg_pu': 0.001, 'n_epochs': 50}\n",
      "{'MAE': 2.700200726390421, 'RMSE': 6.768924786747489}\n",
      "----------\n",
      "{'n_factors': 40, 'reg_qi': 1, 'reg_pu': 0.1, 'n_epochs': 40}\n",
      "{'MAE': 2.1157294649566474, 'RMSE': 5.719709640793507}\n",
      "----------\n",
      "{'n_factors': 40, 'reg_qi': 1, 'reg_pu': 0.1, 'n_epochs': 50}\n",
      "{'MAE': 2.1073842408996577, 'RMSE': 5.6321969326228185}\n",
      "----------\n",
      "{'n_factors': 40, 'reg_qi': 3, 'reg_pu': 0.001, 'n_epochs': 40}\n",
      "{'MAE': 2.521811804777624, 'RMSE': 6.393916936183291}\n",
      "----------\n",
      "{'n_factors': 40, 'reg_qi': 3, 'reg_pu': 0.001, 'n_epochs': 50}\n",
      "{'MAE': 2.4686737064981585, 'RMSE': 6.259398674852828}\n",
      "----------\n",
      "{'n_factors': 40, 'reg_qi': 3, 'reg_pu': 0.1, 'n_epochs': 40}\n",
      "{'MAE': 2.0527300234884183, 'RMSE': 5.6073693707098045}\n",
      "----------\n",
      "{'n_factors': 40, 'reg_qi': 3, 'reg_pu': 0.1, 'n_epochs': 50}\n",
      "{'MAE': 2.041647070268131, 'RMSE': 5.595595535441337}\n",
      "----------\n",
      "{'n_factors': 50, 'reg_qi': 0.1, 'reg_pu': 0.001, 'n_epochs': 40}\n",
      "{'MAE': 4.665307731549953, 'RMSE': 10.113969235107199}\n",
      "----------\n",
      "{'n_factors': 50, 'reg_qi': 0.1, 'reg_pu': 0.001, 'n_epochs': 50}\n",
      "{'MAE': 4.173001947270267, 'RMSE': 9.299075749148514}\n",
      "----------\n",
      "{'n_factors': 50, 'reg_qi': 0.1, 'reg_pu': 0.1, 'n_epochs': 40}\n",
      "{'MAE': 2.318690179919847, 'RMSE': 5.9991161427968525}\n",
      "----------\n",
      "{'n_factors': 50, 'reg_qi': 0.1, 'reg_pu': 0.1, 'n_epochs': 50}\n",
      "{'MAE': 2.2853279590310684, 'RMSE': 6.089201250749403}\n",
      "----------\n",
      "{'n_factors': 50, 'reg_qi': 1, 'reg_pu': 0.001, 'n_epochs': 40}\n",
      "{'MAE': 2.7703605966645166, 'RMSE': 6.8695903374979554}\n",
      "----------\n",
      "{'n_factors': 50, 'reg_qi': 1, 'reg_pu': 0.001, 'n_epochs': 50}\n",
      "{'MAE': 2.68170368085596, 'RMSE': 6.6584098807773415}\n",
      "----------\n",
      "{'n_factors': 50, 'reg_qi': 1, 'reg_pu': 0.1, 'n_epochs': 40}\n",
      "{'MAE': 2.0975303741238216, 'RMSE': 5.679354819327525}\n",
      "----------\n",
      "{'n_factors': 50, 'reg_qi': 1, 'reg_pu': 0.1, 'n_epochs': 50}\n",
      "{'MAE': 2.0872240671324933, 'RMSE': 5.63590198879537}\n",
      "----------\n",
      "{'n_factors': 50, 'reg_qi': 3, 'reg_pu': 0.001, 'n_epochs': 40}\n",
      "{'MAE': 2.4717056052883866, 'RMSE': 6.244587884847106}\n",
      "----------\n",
      "{'n_factors': 50, 'reg_qi': 3, 'reg_pu': 0.001, 'n_epochs': 50}\n",
      "{'MAE': 2.426454744214886, 'RMSE': 6.138380569434752}\n",
      "----------\n",
      "{'n_factors': 50, 'reg_qi': 3, 'reg_pu': 0.1, 'n_epochs': 40}\n",
      "{'MAE': 2.044447754861955, 'RMSE': 5.62256971274888}\n",
      "----------\n",
      "{'n_factors': 50, 'reg_qi': 3, 'reg_pu': 0.1, 'n_epochs': 50}\n",
      "{'MAE': 2.028699884215628, 'RMSE': 5.577717599429494}\n",
      "----------\n"
     ]
    }
   ],
   "source": [
    "param_grid = {'n_factors': [40, 50], 'n_epochs': [40, 50], 'reg_pu': [0.001, 0.1],'reg_qi': [ 0.1, 1, 3]}\n",
    "grid_search = GridSearch(NMF, param_grid, measures=['RMSE', 'MAE'])\n",
    "grid_search.evaluate(data)\n",
    "results_df = pd.DataFrame.from_dict(grid_search.cv_results)"
   ]
  },
  {
   "cell_type": "markdown",
   "metadata": {},
   "source": [
    "### Of the chosen hyper parameters, the performance on RMSE and MAE was found to be better at Factors =50, reg_qi = 3, reg_pu = 0.1 and Epochs =50."
   ]
  },
  {
   "cell_type": "code",
   "execution_count": 9,
   "metadata": {},
   "outputs": [
    {
     "name": "stdout",
     "output_type": "stream",
     "text": [
      "5.577717599429494\n",
      "{'n_factors': 50, 'reg_qi': 3, 'reg_pu': 0.1, 'n_epochs': 50}\n",
      "2.028699884215628\n",
      "{'n_factors': 50, 'reg_qi': 3, 'reg_pu': 0.1, 'n_epochs': 50}\n"
     ]
    }
   ],
   "source": [
    "print(grid_search.best_score['RMSE'])\n",
    "print(grid_search.best_params['RMSE'])\n",
    "print(grid_search.best_score['MAE'])\n",
    "print(grid_search.best_params['MAE'])"
   ]
  },
  {
   "cell_type": "markdown",
   "metadata": {},
   "source": [
    "### The below shows the plot of RMSE and MAE with varying factors.\n",
    "Surprisingly the graph remained close to being flat as the number of factors changed."
   ]
  },
  {
   "cell_type": "code",
   "execution_count": 10,
   "metadata": {},
   "outputs": [
    {
     "name": "stdout",
     "output_type": "stream",
     "text": [
      "Evaluating RMSE, MAE of algorithm NMF.\n",
      "\n",
      "------------\n",
      "Fold 1\n",
      "RMSE: 4.7176\n",
      "MAE:  2.0251\n",
      "------------\n",
      "Fold 2\n",
      "RMSE: 5.2486\n",
      "MAE:  2.1281\n",
      "------------\n",
      "Fold 3\n",
      "RMSE: 4.7125\n",
      "MAE:  2.0080\n",
      "------------\n",
      "Fold 4\n",
      "RMSE: 8.2648\n",
      "MAE:  2.0875\n",
      "------------\n",
      "Fold 5\n",
      "RMSE: 5.1318\n",
      "MAE:  2.1017\n",
      "------------\n",
      "------------\n",
      "Mean RMSE: 5.6151\n",
      "Mean MAE : 2.0701\n",
      "------------\n",
      "------------\n",
      "Evaluating RMSE, MAE of algorithm NMF.\n",
      "\n",
      "------------\n",
      "Fold 1\n",
      "RMSE: 4.6746\n",
      "MAE:  2.0034\n",
      "------------\n",
      "Fold 2\n",
      "RMSE: 5.4731\n",
      "MAE:  2.1145\n",
      "------------\n",
      "Fold 3\n",
      "RMSE: 4.7493\n",
      "MAE:  2.0140\n",
      "------------\n",
      "Fold 4\n",
      "RMSE: 8.2795\n",
      "MAE:  2.0856\n",
      "------------\n",
      "Fold 5\n",
      "RMSE: 5.0637\n",
      "MAE:  2.0724\n",
      "------------\n",
      "------------\n",
      "Mean RMSE: 5.6480\n",
      "Mean MAE : 2.0580\n",
      "------------\n",
      "------------\n",
      "Evaluating RMSE, MAE of algorithm NMF.\n",
      "\n",
      "------------\n",
      "Fold 1\n",
      "RMSE: 4.6718\n",
      "MAE:  2.0039\n",
      "------------\n",
      "Fold 2\n",
      "RMSE: 5.3747\n",
      "MAE:  2.0925\n",
      "------------\n",
      "Fold 3\n",
      "RMSE: 4.7089\n",
      "MAE:  1.9989\n",
      "------------\n",
      "Fold 4\n",
      "RMSE: 8.2340\n",
      "MAE:  2.0668\n",
      "------------\n",
      "Fold 5\n",
      "RMSE: 4.9879\n",
      "MAE:  2.0423\n",
      "------------\n",
      "------------\n",
      "Mean RMSE: 5.5955\n",
      "Mean MAE : 2.0409\n",
      "------------\n",
      "------------\n",
      "Evaluating RMSE, MAE of algorithm NMF.\n",
      "\n",
      "------------\n",
      "Fold 1\n",
      "RMSE: 4.7063\n",
      "MAE:  1.9999\n",
      "------------\n",
      "Fold 2\n",
      "RMSE: 5.2887\n",
      "MAE:  2.0880\n",
      "------------\n",
      "Fold 3\n",
      "RMSE: 4.6923\n",
      "MAE:  1.9853\n",
      "------------\n",
      "Fold 4\n",
      "RMSE: 8.2326\n",
      "MAE:  2.0626\n",
      "------------\n",
      "Fold 5\n",
      "RMSE: 4.9948\n",
      "MAE:  2.0466\n",
      "------------\n",
      "------------\n",
      "Mean RMSE: 5.5829\n",
      "Mean MAE : 2.0365\n",
      "------------\n",
      "------------\n",
      "Evaluating RMSE, MAE of algorithm NMF.\n",
      "\n",
      "------------\n",
      "Fold 1\n",
      "RMSE: 4.6577\n",
      "MAE:  1.9899\n",
      "------------\n",
      "Fold 2\n",
      "RMSE: 5.3413\n",
      "MAE:  2.0750\n",
      "------------\n",
      "Fold 3\n",
      "RMSE: 4.6547\n",
      "MAE:  1.9740\n",
      "------------\n",
      "Fold 4\n",
      "RMSE: 8.2166\n",
      "MAE:  2.0563\n",
      "------------\n",
      "Fold 5\n",
      "RMSE: 5.0248\n",
      "MAE:  2.0437\n",
      "------------\n",
      "------------\n",
      "Mean RMSE: 5.5790\n",
      "Mean MAE : 2.0278\n",
      "------------\n",
      "------------\n",
      "Evaluating RMSE, MAE of algorithm NMF.\n",
      "\n",
      "------------\n",
      "Fold 1\n",
      "RMSE: 4.6484\n",
      "MAE:  1.9774\n",
      "------------\n",
      "Fold 2\n",
      "RMSE: 5.3176\n",
      "MAE:  2.0828\n",
      "------------\n",
      "Fold 3\n",
      "RMSE: 4.6736\n",
      "MAE:  1.9774\n",
      "------------\n",
      "Fold 4\n",
      "RMSE: 8.2463\n",
      "MAE:  2.0504\n",
      "------------\n",
      "Fold 5\n",
      "RMSE: 5.0315\n",
      "MAE:  2.0487\n",
      "------------\n",
      "------------\n",
      "Mean RMSE: 5.5835\n",
      "Mean MAE : 2.0273\n",
      "------------\n",
      "------------\n",
      "Evaluating RMSE, MAE of algorithm NMF.\n",
      "\n",
      "------------\n",
      "Fold 1\n",
      "RMSE: 4.6906\n",
      "MAE:  1.9829\n",
      "------------\n",
      "Fold 2\n",
      "RMSE: 5.3239\n",
      "MAE:  2.0792\n",
      "------------\n",
      "Fold 3\n",
      "RMSE: 4.6518\n",
      "MAE:  1.9693\n",
      "------------\n",
      "Fold 4\n",
      "RMSE: 8.2671\n",
      "MAE:  2.0571\n",
      "------------\n",
      "Fold 5\n",
      "RMSE: 4.9897\n",
      "MAE:  2.0312\n",
      "------------\n",
      "------------\n",
      "Mean RMSE: 5.5846\n",
      "Mean MAE : 2.0240\n",
      "------------\n",
      "------------\n"
     ]
    }
   ],
   "source": [
    "maelist = []\n",
    "rmselist = []\n",
    "factors = [20, 30, 40 ,50 ,60, 70, 80]\n",
    "for i in factors:\n",
    "    algo = NMF(n_factors = i, reg_pu = 0.1, reg_qi = 3)\n",
    "    perf = evaluate(algo, data)\n",
    "    maelist.append(np.mean(perf['mae']))\n",
    "    rmselist.append(np.mean(perf['rmse']))"
   ]
  },
  {
   "cell_type": "code",
   "execution_count": 26,
   "metadata": {},
   "outputs": [
    {
     "data": {
      "image/png": "[encoded data removed]",
      "text/plain": [
       "<matplotlib.figure.Figure at 0x1a1561be10>"
      ]
     },
     "metadata": {},
     "output_type": "display_data"
    }
   ],
   "source": [
    "results_df = pd.DataFrame({'Factors': factors, 'MAE': maelist, 'RMSE': rmselist})\n",
    "plot1 = results_df.plot(x='Factors', y=['MAE', 'RMSE'], ylim=(0.9, 7), \n",
    "                        title = 'NMF: evaluation metrics vs number of latent factors',figsize = (14,9))\n",
    "fig = plot1.get_figure()"
   ]
  },
  {
   "cell_type": "markdown",
   "metadata": {},
   "source": [
    "#####  The below is the Baseline Performance using Surprise BaselineOnly. The baseline performance, when this package is used , is slightly worse than from what we got from Surprise package above. There isn't a significant improvement in the metrics however the surprise package ( NMF ) results for a given user shows values similar to actual values\n",
    "MAE = 2.2665  \n",
    "RMSE = 5.5740"
   ]
  },
  {
   "cell_type": "code",
   "execution_count": 11,
   "metadata": {
    "collapsed": true
   },
   "outputs": [],
   "source": [
    "from surprise import BaselineOnly\n",
    "from surprise.model_selection import cross_validate"
   ]
  },
  {
   "cell_type": "code",
   "execution_count": 12,
   "metadata": {},
   "outputs": [
    {
     "name": "stdout",
     "output_type": "stream",
     "text": [
      "Estimating biases using als...\n",
      "Estimating biases using als...\n",
      "Estimating biases using als...\n",
      "Estimating biases using als...\n",
      "Estimating biases using als...\n",
      "Evaluating RMSE, MAE of algorithm BaselineOnly on 5 split(s).\n",
      "\n",
      "                  Fold 1  Fold 2  Fold 3  Fold 4  Fold 5  Mean    Std     \n",
      "MAE (testset)     2.2718  2.2902  2.2279  2.3006  2.2422  2.2665  0.0277  \n",
      "RMSE (testset)    4.8070  5.2187  4.7618  8.3499  4.7325  5.5740  1.3991  \n",
      "Fit time          0.31    0.33    0.34    0.33    0.34    0.33    0.01    \n",
      "Test time         0.20    0.20    0.21    0.21    0.17    0.20    0.02    \n"
     ]
    },
    {
     "data": {
      "text/plain": [
       "{u'fit_time': (0.3119828701019287,\n",
       "  0.3255171775817871,\n",
       "  0.34271907806396484,\n",
       "  0.3348119258880615,\n",
       "  0.33794188499450684),\n",
       " u'test_mae': array([2.27175377, 2.29016421, 2.22789042, 2.30064745, 2.24215912]),\n",
       " u'test_rmse': array([4.80701007, 5.21867624, 4.76176299, 8.34987891, 4.73251177]),\n",
       " u'test_time': (0.20006084442138672,\n",
       "  0.20172405242919922,\n",
       "  0.20798778533935547,\n",
       "  0.21161198616027832,\n",
       "  0.16845202445983887)}"
      ]
     },
     "execution_count": 12,
     "metadata": {},
     "output_type": "execute_result"
    }
   ],
   "source": [
    "cross_validate(BaselineOnly(), data, verbose=True)"
   ]
  }
 ],
 "metadata": {
  "kernelspec": {
   "display_name": "Python 2",
   "language": "python",
   "name": "python2"
  },
  "language_info": {
   "codemirror_mode": {
    "name": "ipython",
    "version": 2
   },
   "file_extension": ".py",
   "mimetype": "text/x-python",
   "name": "python",
   "nbconvert_exporter": "python",
   "pygments_lexer": "ipython2",
   "version": "2.7.13"
  }
 },
 "nbformat": 4,
 "nbformat_minor": 2
}
